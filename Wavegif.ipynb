{
 "cells": [
  {
   "cell_type": "code",
   "execution_count": 43,
   "metadata": {},
   "outputs": [
    {
     "name": "stdout",
     "output_type": "stream",
     "text": [
      "GIF saved as P_Wave_lambda3_T0.3.gif\n",
      "GIF saved as S_Wave_lambda3_T0.3.gif\n",
      "GIF saved as P_Wave_lambda5_T0.5.gif\n",
      "GIF saved as S_Wave_lambda5_T0.5.gif\n"
     ]
    }
   ],
   "source": [
    "import numpy as np\n",
    "import matplotlib.pyplot as plt\n",
    "import matplotlib.animation as animation\n",
    "from mpl_toolkits.mplot3d import Axes3D\n",
    "\n",
    "def plot_wave(lamda, period, wave_type):\n",
    "    Ay, Ax, Az = 3, 3, 1.5  # 增加 P 波振幅\n",
    "    k = 2 * np.pi / lamda  # 波數\n",
    "    w = 2 * np.pi / period  # 角頻率\n",
    "    z = np.arange(0, 5, 0.05)  # 增加解析度\n",
    "    \n",
    "    fig = plt.figure()\n",
    "    ax = fig.add_subplot(111, projection='3d')\n",
    "    \n",
    "    def update(t):\n",
    "        ax.clear()\n",
    "        \n",
    "        if wave_type == \"S\":\n",
    "            x = -k * Ay * np.sin(w * t - k * z)\n",
    "            y = k * Ax * np.sin(w * t - k * z)\n",
    "            for i in np.arange(-50, 50, 8):  \n",
    "                ax.scatter(z, y + i, x + i, marker=\"o\")\n",
    "            ax.set_title(f\"S Wave (λ={lamda}, T={period})\")\n",
    "        \n",
    "        elif wave_type == \"P\":\n",
    "            nz = k * Az * np.sin(w * t - k * z)\n",
    "            for i in np.arange(-50, 50, 8):  \n",
    "                ax.scatter(z + nz, 0, i, marker=\"o\")  # 修正 P 波點不會連成一條線\n",
    "            ax.set_title(f\"P Wave (λ={lamda}, T={period})\")\n",
    "        \n",
    "        ax.set_xlabel('Z Label')\n",
    "        ax.set_ylabel('Y Label')\n",
    "        ax.set_zlabel('X Label')\n",
    "        ax.view_init(8, 88)\n",
    "    \n",
    "    ani = animation.FuncAnimation(fig, update, frames=np.linspace(0, 2*np.pi, 60), interval=250)  # 增加動畫流暢度\n",
    "    gif_name = f\"{wave_type}_Wave_lambda{lamda}_T{period}.gif\"\n",
    "    ani.save(gif_name, writer='pillow')\n",
    "    print(\"GIF saved as\", gif_name)\n",
    "    plt.close()\n",
    "\n",
    "# 繪製 λ=3, T=0.3 和 λ=5, T=0.5 的 P 波和 S 波\n",
    "params = [(3, 0.3, \"P\"), (3, 0.3, \"S\"), (5, 0.5, \"P\"), (5, 0.5, \"S\")]\n",
    "for lamda, period, wave_type in params:\n",
    "    plot_wave(lamda, period, wave_type)\n"
   ]
  },
  {
   "cell_type": "code",
   "execution_count": null,
   "metadata": {},
   "outputs": [],
   "source": []
  }
 ],
 "metadata": {
  "kernelspec": {
   "display_name": "pygmt",
   "language": "python",
   "name": "python3"
  },
  "language_info": {
   "codemirror_mode": {
    "name": "ipython",
    "version": 3
   },
   "file_extension": ".py",
   "mimetype": "text/x-python",
   "name": "python",
   "nbconvert_exporter": "python",
   "pygments_lexer": "ipython3",
   "version": "3.9.21"
  }
 },
 "nbformat": 4,
 "nbformat_minor": 2
}
